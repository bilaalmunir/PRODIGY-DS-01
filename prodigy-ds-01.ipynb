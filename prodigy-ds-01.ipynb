{
 "cells": [
  {
   "cell_type": "code",
   "execution_count": 46,
   "metadata": {},
   "outputs": [
    {
     "data": {
      "text/html": [
       "<div>\n",
       "<style scoped>\n",
       "    .dataframe tbody tr th:only-of-type {\n",
       "        vertical-align: middle;\n",
       "    }\n",
       "\n",
       "    .dataframe tbody tr th {\n",
       "        vertical-align: top;\n",
       "    }\n",
       "\n",
       "    .dataframe thead th {\n",
       "        text-align: right;\n",
       "    }\n",
       "</style>\n",
       "<table border=\"1\" class=\"dataframe\">\n",
       "  <thead>\n",
       "    <tr style=\"text-align: right;\">\n",
       "      <th></th>\n",
       "      <th>Country Name</th>\n",
       "      <th>Country Code</th>\n",
       "      <th>Indicator Name</th>\n",
       "      <th>Indicator Code</th>\n",
       "      <th>1960</th>\n",
       "      <th>1961</th>\n",
       "      <th>1962</th>\n",
       "      <th>1963</th>\n",
       "      <th>1964</th>\n",
       "      <th>1965</th>\n",
       "      <th>...</th>\n",
       "      <th>2015</th>\n",
       "      <th>2016</th>\n",
       "      <th>2017</th>\n",
       "      <th>2018</th>\n",
       "      <th>2019</th>\n",
       "      <th>2020</th>\n",
       "      <th>2021</th>\n",
       "      <th>2022</th>\n",
       "      <th>2023</th>\n",
       "      <th>Unnamed: 68</th>\n",
       "    </tr>\n",
       "  </thead>\n",
       "  <tbody>\n",
       "    <tr>\n",
       "      <th>0</th>\n",
       "      <td>Aruba</td>\n",
       "      <td>ABW</td>\n",
       "      <td>Population, total</td>\n",
       "      <td>SP.POP.TOTL</td>\n",
       "      <td>54608</td>\n",
       "      <td>55811</td>\n",
       "      <td>56682</td>\n",
       "      <td>57475</td>\n",
       "      <td>58178</td>\n",
       "      <td>58782</td>\n",
       "      <td>...</td>\n",
       "      <td>104257</td>\n",
       "      <td>104874</td>\n",
       "      <td>105439</td>\n",
       "      <td>105962</td>\n",
       "      <td>106442</td>\n",
       "      <td>106585</td>\n",
       "      <td>106537</td>\n",
       "      <td>106445</td>\n",
       "      <td>NaN</td>\n",
       "      <td>NaN</td>\n",
       "    </tr>\n",
       "    <tr>\n",
       "      <th>1</th>\n",
       "      <td>Africa Eastern and Southern</td>\n",
       "      <td>AFE</td>\n",
       "      <td>Population, total</td>\n",
       "      <td>SP.POP.TOTL</td>\n",
       "      <td>130692579</td>\n",
       "      <td>134169237</td>\n",
       "      <td>137835590</td>\n",
       "      <td>141630546</td>\n",
       "      <td>145605995</td>\n",
       "      <td>149742351</td>\n",
       "      <td>...</td>\n",
       "      <td>600008424</td>\n",
       "      <td>616377605</td>\n",
       "      <td>632746570</td>\n",
       "      <td>649757148</td>\n",
       "      <td>667242986</td>\n",
       "      <td>685112979</td>\n",
       "      <td>702977106</td>\n",
       "      <td>720859132</td>\n",
       "      <td>NaN</td>\n",
       "      <td>NaN</td>\n",
       "    </tr>\n",
       "    <tr>\n",
       "      <th>2</th>\n",
       "      <td>Afghanistan</td>\n",
       "      <td>AFG</td>\n",
       "      <td>Population, total</td>\n",
       "      <td>SP.POP.TOTL</td>\n",
       "      <td>8622466</td>\n",
       "      <td>8790140</td>\n",
       "      <td>8969047</td>\n",
       "      <td>9157465</td>\n",
       "      <td>9355514</td>\n",
       "      <td>9565147</td>\n",
       "      <td>...</td>\n",
       "      <td>33753499</td>\n",
       "      <td>34636207</td>\n",
       "      <td>35643418</td>\n",
       "      <td>36686784</td>\n",
       "      <td>37769499</td>\n",
       "      <td>38972230</td>\n",
       "      <td>40099462</td>\n",
       "      <td>41128771</td>\n",
       "      <td>NaN</td>\n",
       "      <td>NaN</td>\n",
       "    </tr>\n",
       "    <tr>\n",
       "      <th>3</th>\n",
       "      <td>Africa Western and Central</td>\n",
       "      <td>AFW</td>\n",
       "      <td>Population, total</td>\n",
       "      <td>SP.POP.TOTL</td>\n",
       "      <td>97256290</td>\n",
       "      <td>99314028</td>\n",
       "      <td>101445032</td>\n",
       "      <td>103667517</td>\n",
       "      <td>105959979</td>\n",
       "      <td>108336203</td>\n",
       "      <td>...</td>\n",
       "      <td>408690375</td>\n",
       "      <td>419778384</td>\n",
       "      <td>431138704</td>\n",
       "      <td>442646825</td>\n",
       "      <td>454306063</td>\n",
       "      <td>466189102</td>\n",
       "      <td>478185907</td>\n",
       "      <td>490330870</td>\n",
       "      <td>NaN</td>\n",
       "      <td>NaN</td>\n",
       "    </tr>\n",
       "    <tr>\n",
       "      <th>4</th>\n",
       "      <td>Angola</td>\n",
       "      <td>AGO</td>\n",
       "      <td>Population, total</td>\n",
       "      <td>SP.POP.TOTL</td>\n",
       "      <td>5357195</td>\n",
       "      <td>5441333</td>\n",
       "      <td>5521400</td>\n",
       "      <td>5599827</td>\n",
       "      <td>5673199</td>\n",
       "      <td>5736582</td>\n",
       "      <td>...</td>\n",
       "      <td>28127721</td>\n",
       "      <td>29154746</td>\n",
       "      <td>30208628</td>\n",
       "      <td>31273533</td>\n",
       "      <td>32353588</td>\n",
       "      <td>33428486</td>\n",
       "      <td>34503774</td>\n",
       "      <td>35588987</td>\n",
       "      <td>NaN</td>\n",
       "      <td>NaN</td>\n",
       "    </tr>\n",
       "  </tbody>\n",
       "</table>\n",
       "<p>5 rows × 69 columns</p>\n",
       "</div>"
      ],
      "text/plain": [
       "                  Country Name Country Code     Indicator Name Indicator Code  \\\n",
       "0                        Aruba          ABW  Population, total    SP.POP.TOTL   \n",
       "1  Africa Eastern and Southern          AFE  Population, total    SP.POP.TOTL   \n",
       "2                  Afghanistan          AFG  Population, total    SP.POP.TOTL   \n",
       "3   Africa Western and Central          AFW  Population, total    SP.POP.TOTL   \n",
       "4                       Angola          AGO  Population, total    SP.POP.TOTL   \n",
       "\n",
       "       1960      1961      1962      1963      1964      1965  ...      2015  \\\n",
       "0     54608     55811     56682     57475     58178     58782  ...    104257   \n",
       "1 130692579 134169237 137835590 141630546 145605995 149742351  ... 600008424   \n",
       "2   8622466   8790140   8969047   9157465   9355514   9565147  ...  33753499   \n",
       "3  97256290  99314028 101445032 103667517 105959979 108336203  ... 408690375   \n",
       "4   5357195   5441333   5521400   5599827   5673199   5736582  ...  28127721   \n",
       "\n",
       "       2016      2017      2018      2019      2020      2021      2022  2023  \\\n",
       "0    104874    105439    105962    106442    106585    106537    106445   NaN   \n",
       "1 616377605 632746570 649757148 667242986 685112979 702977106 720859132   NaN   \n",
       "2  34636207  35643418  36686784  37769499  38972230  40099462  41128771   NaN   \n",
       "3 419778384 431138704 442646825 454306063 466189102 478185907 490330870   NaN   \n",
       "4  29154746  30208628  31273533  32353588  33428486  34503774  35588987   NaN   \n",
       "\n",
       "   Unnamed: 68  \n",
       "0          NaN  \n",
       "1          NaN  \n",
       "2          NaN  \n",
       "3          NaN  \n",
       "4          NaN  \n",
       "\n",
       "[5 rows x 69 columns]"
      ]
     },
     "execution_count": 46,
     "metadata": {},
     "output_type": "execute_result"
    }
   ],
   "source": [
    "import pandas as pd # type: ignore\n",
    "import numpy as np # type: ignore\n",
    "import matplotlib.pyplot as plt \n",
    "pd.options.display.float_format = '{:.0f}'.format\n",
    "\n",
    "\n",
    "df = pd.read_csv('prodgy_population_task1.csv' , skiprows=5)\n",
    "world_population_all_years = df[df['Country Name'] == 'World']\n",
    "df.head()"
   ]
  },
  {
   "cell_type": "code",
   "execution_count": 47,
   "metadata": {},
   "outputs": [
    {
     "data": {
      "text/html": [
       "<div>\n",
       "<style scoped>\n",
       "    .dataframe tbody tr th:only-of-type {\n",
       "        vertical-align: middle;\n",
       "    }\n",
       "\n",
       "    .dataframe tbody tr th {\n",
       "        vertical-align: top;\n",
       "    }\n",
       "\n",
       "    .dataframe thead th {\n",
       "        text-align: right;\n",
       "    }\n",
       "</style>\n",
       "<table border=\"1\" class=\"dataframe\">\n",
       "  <thead>\n",
       "    <tr style=\"text-align: right;\">\n",
       "      <th></th>\n",
       "      <th>Country Name</th>\n",
       "      <th>Country Code</th>\n",
       "      <th>Indicator Name</th>\n",
       "      <th>Indicator Code</th>\n",
       "      <th>1960</th>\n",
       "      <th>1961</th>\n",
       "      <th>1962</th>\n",
       "      <th>1963</th>\n",
       "      <th>1964</th>\n",
       "      <th>1965</th>\n",
       "      <th>...</th>\n",
       "      <th>2015</th>\n",
       "      <th>2016</th>\n",
       "      <th>2017</th>\n",
       "      <th>2018</th>\n",
       "      <th>2019</th>\n",
       "      <th>2020</th>\n",
       "      <th>2021</th>\n",
       "      <th>2022</th>\n",
       "      <th>2023</th>\n",
       "      <th>Unnamed: 68</th>\n",
       "    </tr>\n",
       "  </thead>\n",
       "  <tbody>\n",
       "    <tr>\n",
       "      <th>259</th>\n",
       "      <td>World</td>\n",
       "      <td>WLD</td>\n",
       "      <td>Population, total</td>\n",
       "      <td>SP.POP.TOTL</td>\n",
       "      <td>3031474234</td>\n",
       "      <td>3072421801</td>\n",
       "      <td>3126849612</td>\n",
       "      <td>3193428894</td>\n",
       "      <td>3260441925</td>\n",
       "      <td>3328209022</td>\n",
       "      <td>...</td>\n",
       "      <td>7403850164</td>\n",
       "      <td>7490415449</td>\n",
       "      <td>7576441961</td>\n",
       "      <td>7660371127</td>\n",
       "      <td>7741774583</td>\n",
       "      <td>7820205606</td>\n",
       "      <td>7888305693</td>\n",
       "      <td>7950946801</td>\n",
       "      <td>NaN</td>\n",
       "      <td>NaN</td>\n",
       "    </tr>\n",
       "  </tbody>\n",
       "</table>\n",
       "<p>1 rows × 69 columns</p>\n",
       "</div>"
      ],
      "text/plain": [
       "    Country Name Country Code     Indicator Name Indicator Code       1960  \\\n",
       "259        World          WLD  Population, total    SP.POP.TOTL 3031474234   \n",
       "\n",
       "          1961       1962       1963       1964       1965  ...       2015  \\\n",
       "259 3072421801 3126849612 3193428894 3260441925 3328209022  ... 7403850164   \n",
       "\n",
       "          2016       2017       2018       2019       2020       2021  \\\n",
       "259 7490415449 7576441961 7660371127 7741774583 7820205606 7888305693   \n",
       "\n",
       "          2022  2023  Unnamed: 68  \n",
       "259 7950946801   NaN          NaN  \n",
       "\n",
       "[1 rows x 69 columns]"
      ]
     },
     "execution_count": 47,
     "metadata": {},
     "output_type": "execute_result"
    }
   ],
   "source": [
    "world_population_all_years"
   ]
  },
  {
   "cell_type": "markdown",
   "metadata": {},
   "source": [
    "READING CSV:\n",
    "\n",
    "Turns out we can not read a csv file if there is irregular pattern somewhere just as we have in the start. So to fix that we use this \"skiprows\" parameter of pandas read_csv function."
   ]
  },
  {
   "cell_type": "markdown",
   "metadata": {},
   "source": [
    "CLEANING DATA:\n",
    "\n",
    "This dataset had :\n",
    "- 68 unnamed columns \n",
    "- one empty column named: 2023"
   ]
  },
  {
   "cell_type": "code",
   "execution_count": 48,
   "metadata": {},
   "outputs": [],
   "source": [
    "columns_to_remove = ['2023']\n",
    "df =df.drop(columns=columns_to_remove)\n"
   ]
  },
  {
   "cell_type": "code",
   "execution_count": 49,
   "metadata": {},
   "outputs": [
    {
     "data": {
      "text/html": [
       "<div>\n",
       "<style scoped>\n",
       "    .dataframe tbody tr th:only-of-type {\n",
       "        vertical-align: middle;\n",
       "    }\n",
       "\n",
       "    .dataframe tbody tr th {\n",
       "        vertical-align: top;\n",
       "    }\n",
       "\n",
       "    .dataframe thead th {\n",
       "        text-align: right;\n",
       "    }\n",
       "</style>\n",
       "<table border=\"1\" class=\"dataframe\">\n",
       "  <thead>\n",
       "    <tr style=\"text-align: right;\">\n",
       "      <th></th>\n",
       "      <th>Country Name</th>\n",
       "      <th>Country Code</th>\n",
       "      <th>Indicator Name</th>\n",
       "      <th>Indicator Code</th>\n",
       "      <th>1960</th>\n",
       "      <th>1961</th>\n",
       "      <th>1962</th>\n",
       "      <th>1963</th>\n",
       "      <th>1964</th>\n",
       "      <th>1965</th>\n",
       "      <th>...</th>\n",
       "      <th>2013</th>\n",
       "      <th>2014</th>\n",
       "      <th>2015</th>\n",
       "      <th>2016</th>\n",
       "      <th>2017</th>\n",
       "      <th>2018</th>\n",
       "      <th>2019</th>\n",
       "      <th>2020</th>\n",
       "      <th>2021</th>\n",
       "      <th>2022</th>\n",
       "    </tr>\n",
       "  </thead>\n",
       "  <tbody>\n",
       "    <tr>\n",
       "      <th>0</th>\n",
       "      <td>Aruba</td>\n",
       "      <td>ABW</td>\n",
       "      <td>Population, total</td>\n",
       "      <td>SP.POP.TOTL</td>\n",
       "      <td>54608</td>\n",
       "      <td>55811</td>\n",
       "      <td>56682</td>\n",
       "      <td>57475</td>\n",
       "      <td>58178</td>\n",
       "      <td>58782</td>\n",
       "      <td>...</td>\n",
       "      <td>102880</td>\n",
       "      <td>103594</td>\n",
       "      <td>104257</td>\n",
       "      <td>104874</td>\n",
       "      <td>105439</td>\n",
       "      <td>105962</td>\n",
       "      <td>106442</td>\n",
       "      <td>106585</td>\n",
       "      <td>106537</td>\n",
       "      <td>106445</td>\n",
       "    </tr>\n",
       "    <tr>\n",
       "      <th>1</th>\n",
       "      <td>Africa Eastern and Southern</td>\n",
       "      <td>AFE</td>\n",
       "      <td>Population, total</td>\n",
       "      <td>SP.POP.TOTL</td>\n",
       "      <td>130692579</td>\n",
       "      <td>134169237</td>\n",
       "      <td>137835590</td>\n",
       "      <td>141630546</td>\n",
       "      <td>145605995</td>\n",
       "      <td>149742351</td>\n",
       "      <td>...</td>\n",
       "      <td>567892149</td>\n",
       "      <td>583651101</td>\n",
       "      <td>600008424</td>\n",
       "      <td>616377605</td>\n",
       "      <td>632746570</td>\n",
       "      <td>649757148</td>\n",
       "      <td>667242986</td>\n",
       "      <td>685112979</td>\n",
       "      <td>702977106</td>\n",
       "      <td>720859132</td>\n",
       "    </tr>\n",
       "    <tr>\n",
       "      <th>2</th>\n",
       "      <td>Afghanistan</td>\n",
       "      <td>AFG</td>\n",
       "      <td>Population, total</td>\n",
       "      <td>SP.POP.TOTL</td>\n",
       "      <td>8622466</td>\n",
       "      <td>8790140</td>\n",
       "      <td>8969047</td>\n",
       "      <td>9157465</td>\n",
       "      <td>9355514</td>\n",
       "      <td>9565147</td>\n",
       "      <td>...</td>\n",
       "      <td>31541209</td>\n",
       "      <td>32716210</td>\n",
       "      <td>33753499</td>\n",
       "      <td>34636207</td>\n",
       "      <td>35643418</td>\n",
       "      <td>36686784</td>\n",
       "      <td>37769499</td>\n",
       "      <td>38972230</td>\n",
       "      <td>40099462</td>\n",
       "      <td>41128771</td>\n",
       "    </tr>\n",
       "    <tr>\n",
       "      <th>3</th>\n",
       "      <td>Africa Western and Central</td>\n",
       "      <td>AFW</td>\n",
       "      <td>Population, total</td>\n",
       "      <td>SP.POP.TOTL</td>\n",
       "      <td>97256290</td>\n",
       "      <td>99314028</td>\n",
       "      <td>101445032</td>\n",
       "      <td>103667517</td>\n",
       "      <td>105959979</td>\n",
       "      <td>108336203</td>\n",
       "      <td>...</td>\n",
       "      <td>387204553</td>\n",
       "      <td>397855507</td>\n",
       "      <td>408690375</td>\n",
       "      <td>419778384</td>\n",
       "      <td>431138704</td>\n",
       "      <td>442646825</td>\n",
       "      <td>454306063</td>\n",
       "      <td>466189102</td>\n",
       "      <td>478185907</td>\n",
       "      <td>490330870</td>\n",
       "    </tr>\n",
       "    <tr>\n",
       "      <th>4</th>\n",
       "      <td>Angola</td>\n",
       "      <td>AGO</td>\n",
       "      <td>Population, total</td>\n",
       "      <td>SP.POP.TOTL</td>\n",
       "      <td>5357195</td>\n",
       "      <td>5441333</td>\n",
       "      <td>5521400</td>\n",
       "      <td>5599827</td>\n",
       "      <td>5673199</td>\n",
       "      <td>5736582</td>\n",
       "      <td>...</td>\n",
       "      <td>26147002</td>\n",
       "      <td>27128337</td>\n",
       "      <td>28127721</td>\n",
       "      <td>29154746</td>\n",
       "      <td>30208628</td>\n",
       "      <td>31273533</td>\n",
       "      <td>32353588</td>\n",
       "      <td>33428486</td>\n",
       "      <td>34503774</td>\n",
       "      <td>35588987</td>\n",
       "    </tr>\n",
       "  </tbody>\n",
       "</table>\n",
       "<p>5 rows × 67 columns</p>\n",
       "</div>"
      ],
      "text/plain": [
       "                  Country Name Country Code     Indicator Name Indicator Code  \\\n",
       "0                        Aruba          ABW  Population, total    SP.POP.TOTL   \n",
       "1  Africa Eastern and Southern          AFE  Population, total    SP.POP.TOTL   \n",
       "2                  Afghanistan          AFG  Population, total    SP.POP.TOTL   \n",
       "3   Africa Western and Central          AFW  Population, total    SP.POP.TOTL   \n",
       "4                       Angola          AGO  Population, total    SP.POP.TOTL   \n",
       "\n",
       "       1960      1961      1962      1963      1964      1965  ...      2013  \\\n",
       "0     54608     55811     56682     57475     58178     58782  ...    102880   \n",
       "1 130692579 134169237 137835590 141630546 145605995 149742351  ... 567892149   \n",
       "2   8622466   8790140   8969047   9157465   9355514   9565147  ...  31541209   \n",
       "3  97256290  99314028 101445032 103667517 105959979 108336203  ... 387204553   \n",
       "4   5357195   5441333   5521400   5599827   5673199   5736582  ...  26147002   \n",
       "\n",
       "       2014      2015      2016      2017      2018      2019      2020  \\\n",
       "0    103594    104257    104874    105439    105962    106442    106585   \n",
       "1 583651101 600008424 616377605 632746570 649757148 667242986 685112979   \n",
       "2  32716210  33753499  34636207  35643418  36686784  37769499  38972230   \n",
       "3 397855507 408690375 419778384 431138704 442646825 454306063 466189102   \n",
       "4  27128337  28127721  29154746  30208628  31273533  32353588  33428486   \n",
       "\n",
       "       2021      2022  \n",
       "0    106537    106445  \n",
       "1 702977106 720859132  \n",
       "2  40099462  41128771  \n",
       "3 478185907 490330870  \n",
       "4  34503774  35588987  \n",
       "\n",
       "[5 rows x 67 columns]"
      ]
     },
     "execution_count": 49,
     "metadata": {},
     "output_type": "execute_result"
    }
   ],
   "source": [
    "\n",
    "df = df.dropna(axis=1, how='all')\n",
    "df.head()"
   ]
  },
  {
   "cell_type": "markdown",
   "metadata": {},
   "source": [
    "REMOVED!\n"
   ]
  },
  {
   "cell_type": "code",
   "execution_count": 50,
   "metadata": {},
   "outputs": [
    {
     "name": "stdout",
     "output_type": "stream",
     "text": [
      "266\n"
     ]
    }
   ],
   "source": [
    "print(len(df['Country Name']))"
   ]
  },
  {
   "cell_type": "markdown",
   "metadata": {},
   "source": [
    "There are about 266 countries mentioned in this data set\n",
    "now, lets find out the country with largest population in 1960"
   ]
  },
  {
   "cell_type": "markdown",
   "metadata": {},
   "source": [
    "Largest Population in 1960:"
   ]
  },
  {
   "cell_type": "code",
   "execution_count": 51,
   "metadata": {},
   "outputs": [
    {
     "data": {
      "text/html": [
       "<div>\n",
       "<style scoped>\n",
       "    .dataframe tbody tr th:only-of-type {\n",
       "        vertical-align: middle;\n",
       "    }\n",
       "\n",
       "    .dataframe tbody tr th {\n",
       "        vertical-align: top;\n",
       "    }\n",
       "\n",
       "    .dataframe thead th {\n",
       "        text-align: right;\n",
       "    }\n",
       "</style>\n",
       "<table border=\"1\" class=\"dataframe\">\n",
       "  <thead>\n",
       "    <tr style=\"text-align: right;\">\n",
       "      <th></th>\n",
       "      <th>Country Name</th>\n",
       "      <th>1960</th>\n",
       "    </tr>\n",
       "  </thead>\n",
       "  <tbody>\n",
       "    <tr>\n",
       "      <th>0</th>\n",
       "      <td>Aruba</td>\n",
       "      <td>54608</td>\n",
       "    </tr>\n",
       "    <tr>\n",
       "      <th>1</th>\n",
       "      <td>Africa Eastern and Southern</td>\n",
       "      <td>130692579</td>\n",
       "    </tr>\n",
       "    <tr>\n",
       "      <th>2</th>\n",
       "      <td>Afghanistan</td>\n",
       "      <td>8622466</td>\n",
       "    </tr>\n",
       "    <tr>\n",
       "      <th>3</th>\n",
       "      <td>Africa Western and Central</td>\n",
       "      <td>97256290</td>\n",
       "    </tr>\n",
       "    <tr>\n",
       "      <th>4</th>\n",
       "      <td>Angola</td>\n",
       "      <td>5357195</td>\n",
       "    </tr>\n",
       "  </tbody>\n",
       "</table>\n",
       "</div>"
      ],
      "text/plain": [
       "                  Country Name      1960\n",
       "0                        Aruba     54608\n",
       "1  Africa Eastern and Southern 130692579\n",
       "2                  Afghanistan   8622466\n",
       "3   Africa Western and Central  97256290\n",
       "4                       Angola   5357195"
      ]
     },
     "execution_count": 51,
     "metadata": {},
     "output_type": "execute_result"
    }
   ],
   "source": [
    "\n",
    "countries_in_1960 = df[['Country Name','1960']]\n",
    "countries_in_1960.head()"
   ]
  },
  {
   "cell_type": "code",
   "execution_count": 52,
   "metadata": {},
   "outputs": [
    {
     "data": {
      "text/html": [
       "<div>\n",
       "<style scoped>\n",
       "    .dataframe tbody tr th:only-of-type {\n",
       "        vertical-align: middle;\n",
       "    }\n",
       "\n",
       "    .dataframe tbody tr th {\n",
       "        vertical-align: top;\n",
       "    }\n",
       "\n",
       "    .dataframe thead th {\n",
       "        text-align: right;\n",
       "    }\n",
       "</style>\n",
       "<table border=\"1\" class=\"dataframe\">\n",
       "  <thead>\n",
       "    <tr style=\"text-align: right;\">\n",
       "      <th></th>\n",
       "      <th>Country Name</th>\n",
       "      <th>1960</th>\n",
       "    </tr>\n",
       "  </thead>\n",
       "  <tbody>\n",
       "    <tr>\n",
       "      <th>259</th>\n",
       "      <td>World</td>\n",
       "      <td>3031474234</td>\n",
       "    </tr>\n",
       "    <tr>\n",
       "      <th>103</th>\n",
       "      <td>IDA &amp; IBRD total</td>\n",
       "      <td>2297972283</td>\n",
       "    </tr>\n",
       "    <tr>\n",
       "      <th>140</th>\n",
       "      <td>Low &amp; middle income</td>\n",
       "      <td>2243178704</td>\n",
       "    </tr>\n",
       "    <tr>\n",
       "      <th>156</th>\n",
       "      <td>Middle income</td>\n",
       "      <td>2107416130</td>\n",
       "    </tr>\n",
       "    <tr>\n",
       "      <th>102</th>\n",
       "      <td>IBRD only</td>\n",
       "      <td>1904346683</td>\n",
       "    </tr>\n",
       "  </tbody>\n",
       "</table>\n",
       "</div>"
      ],
      "text/plain": [
       "            Country Name       1960\n",
       "259                World 3031474234\n",
       "103     IDA & IBRD total 2297972283\n",
       "140  Low & middle income 2243178704\n",
       "156        Middle income 2107416130\n",
       "102            IBRD only 1904346683"
      ]
     },
     "execution_count": 52,
     "metadata": {},
     "output_type": "execute_result"
    }
   ],
   "source": [
    "largest_population = df.nlargest(5,'1960')[['Country Name','1960']]\n",
    "largest_population.head()\n"
   ]
  },
  {
   "cell_type": "markdown",
   "metadata": {},
   "source": [
    "COUNTRY \"WORLD\" :\n",
    "\n",
    "When searching for the country with the greatest population in 1960, I encountered an error in the csv. It appears that there is a row labeled \"World\" in the dataset. This row should not be included in the analysis as it represents a global population aggregate rather than an individual country.\n",
    "\n",
    "COUNTRY \"income etc\":\n",
    "\n",
    "income data and data other than country names shouldnt be under that column.\n",
    "\n",
    "to deal with it ,  we are going to ignore it when comparing so lets first save it in a df(on top \"world_population_all_years\")"
   ]
  },
  {
   "cell_type": "code",
   "execution_count": 53,
   "metadata": {},
   "outputs": [
    {
     "data": {
      "text/html": [
       "<div>\n",
       "<style scoped>\n",
       "    .dataframe tbody tr th:only-of-type {\n",
       "        vertical-align: middle;\n",
       "    }\n",
       "\n",
       "    .dataframe tbody tr th {\n",
       "        vertical-align: top;\n",
       "    }\n",
       "\n",
       "    .dataframe thead th {\n",
       "        text-align: right;\n",
       "    }\n",
       "</style>\n",
       "<table border=\"1\" class=\"dataframe\">\n",
       "  <thead>\n",
       "    <tr style=\"text-align: right;\">\n",
       "      <th></th>\n",
       "      <th>Country Name</th>\n",
       "      <th>1960</th>\n",
       "    </tr>\n",
       "  </thead>\n",
       "  <tbody>\n",
       "    <tr>\n",
       "      <th>63</th>\n",
       "      <td>East Asia &amp; Pacific</td>\n",
       "      <td>1043333636</td>\n",
       "    </tr>\n",
       "    <tr>\n",
       "      <th>230</th>\n",
       "      <td>East Asia &amp; Pacific (IDA &amp; IBRD countries)</td>\n",
       "      <td>884811163</td>\n",
       "    </tr>\n",
       "    <tr>\n",
       "      <th>181</th>\n",
       "      <td>OECD members</td>\n",
       "      <td>807630906</td>\n",
       "    </tr>\n",
       "    <tr>\n",
       "      <th>40</th>\n",
       "      <td>China</td>\n",
       "      <td>667070000</td>\n",
       "    </tr>\n",
       "    <tr>\n",
       "      <th>65</th>\n",
       "      <td>Europe &amp; Central Asia</td>\n",
       "      <td>666273660</td>\n",
       "    </tr>\n",
       "  </tbody>\n",
       "</table>\n",
       "</div>"
      ],
      "text/plain": [
       "                                   Country Name       1960\n",
       "63                          East Asia & Pacific 1043333636\n",
       "230  East Asia & Pacific (IDA & IBRD countries)  884811163\n",
       "181                                OECD members  807630906\n",
       "40                                        China  667070000\n",
       "65                        Europe & Central Asia  666273660"
      ]
     },
     "execution_count": 53,
     "metadata": {},
     "output_type": "execute_result"
    }
   ],
   "source": [
    "filtered_df = df[df['Country Name'] != 'World']\n",
    "filtered_df = filtered_df[~filtered_df['Country Name'].str.contains('income|only|dividend|total|situation' , case=False)]\n",
    "largest_population = filtered_df.nlargest(5,'1960')[['Country Name','1960']]\n",
    "largest_population.head()"
   ]
  },
  {
   "cell_type": "markdown",
   "metadata": {},
   "source": [
    "LARGEST POPULATION IN 1960:\n",
    "\n",
    "After analyzing the data in different ways, it was found that in 1960, China had the largest population compared to all countries. Even when compared only to OECD members, East Asia & Pacific countries together, or Europe & Central Asia together, China still held the fourth position with a population of 667 Millions and 70 Thousands.(667,070,000)."
   ]
  },
  {
   "cell_type": "code",
   "execution_count": 54,
   "metadata": {},
   "outputs": [
    {
     "data": {
      "text/plain": [
       "Text(0, 0.5, 'Millions')"
      ]
     },
     "execution_count": 54,
     "metadata": {},
     "output_type": "execute_result"
    },
    {
     "data": {
      "image/png": "[encoded data removed]",
      "text/plain": [
       "<Figure size 1500x700 with 1 Axes>"
      ]
     },
     "metadata": {},
     "output_type": "display_data"
    }
   ],
   "source": [
    "largest_population_1960_millions = largest_population['1960'] / 1e6\n",
    "largest_countries = largest_population['Country Name']\n",
    "colors = ['skyblue'] * len(largest_countries)\n",
    "china_index = next((i for i, country in enumerate(largest_countries) if country == 'China'), None)\n",
    "colors[china_index] = 'maroon'\n",
    "\n",
    "plt.figure(figsize=(15,7))\n",
    "plt.bar(largest_population['Country Name'],largest_population_1960_millions, color=colors)\n",
    "plt.title('Top 5 with most population in 1960')\n",
    "plt.xlabel('Names')\n",
    "plt.ylabel('Millions')\n"
   ]
  },
  {
   "cell_type": "markdown",
   "metadata": {},
   "source": [
    "To determine whether China's population has increased or decreased, we can examine the population data for the year 2022."
   ]
  },
  {
   "cell_type": "code",
   "execution_count": 55,
   "metadata": {},
   "outputs": [
    {
     "data": {
      "image/png": "[encoded data removed]",
      "text/plain": [
       "<Figure size 1200x600 with 1 Axes>"
      ]
     },
     "metadata": {},
     "output_type": "display_data"
    },
    {
     "data": {
      "text/html": [
       "<div>\n",
       "<style scoped>\n",
       "    .dataframe tbody tr th:only-of-type {\n",
       "        vertical-align: middle;\n",
       "    }\n",
       "\n",
       "    .dataframe tbody tr th {\n",
       "        vertical-align: top;\n",
       "    }\n",
       "\n",
       "    .dataframe thead th {\n",
       "        text-align: right;\n",
       "    }\n",
       "</style>\n",
       "<table border=\"1\" class=\"dataframe\">\n",
       "  <thead>\n",
       "    <tr style=\"text-align: right;\">\n",
       "      <th></th>\n",
       "      <th>Country Name</th>\n",
       "      <th>Country Code</th>\n",
       "      <th>Indicator Name</th>\n",
       "      <th>Indicator Code</th>\n",
       "      <th>1960</th>\n",
       "      <th>1961</th>\n",
       "      <th>1962</th>\n",
       "      <th>1963</th>\n",
       "      <th>1964</th>\n",
       "      <th>1965</th>\n",
       "      <th>...</th>\n",
       "      <th>2013</th>\n",
       "      <th>2014</th>\n",
       "      <th>2015</th>\n",
       "      <th>2016</th>\n",
       "      <th>2017</th>\n",
       "      <th>2018</th>\n",
       "      <th>2019</th>\n",
       "      <th>2020</th>\n",
       "      <th>2021</th>\n",
       "      <th>2022</th>\n",
       "    </tr>\n",
       "  </thead>\n",
       "  <tbody>\n",
       "    <tr>\n",
       "      <th>0</th>\n",
       "      <td>China</td>\n",
       "      <td>CHN</td>\n",
       "      <td>Population, total</td>\n",
       "      <td>SP.POP.TOTL</td>\n",
       "      <td>667070000</td>\n",
       "      <td>660330000</td>\n",
       "      <td>665770000</td>\n",
       "      <td>682335000</td>\n",
       "      <td>698355000</td>\n",
       "      <td>715185000</td>\n",
       "      <td>...</td>\n",
       "      <td>1363240000</td>\n",
       "      <td>1371860000</td>\n",
       "      <td>1379860000</td>\n",
       "      <td>1387790000</td>\n",
       "      <td>1396215000</td>\n",
       "      <td>1402760000</td>\n",
       "      <td>1407745000</td>\n",
       "      <td>1411100000</td>\n",
       "      <td>1412360000</td>\n",
       "      <td>1412175000</td>\n",
       "    </tr>\n",
       "  </tbody>\n",
       "</table>\n",
       "<p>1 rows × 67 columns</p>\n",
       "</div>"
      ],
      "text/plain": [
       "  Country Name Country Code     Indicator Name Indicator Code      1960  \\\n",
       "0        China          CHN  Population, total    SP.POP.TOTL 667070000   \n",
       "\n",
       "       1961      1962      1963      1964      1965  ...       2013  \\\n",
       "0 660330000 665770000 682335000 698355000 715185000  ... 1363240000   \n",
       "\n",
       "        2014       2015       2016       2017       2018       2019  \\\n",
       "0 1371860000 1379860000 1387790000 1396215000 1402760000 1407745000   \n",
       "\n",
       "        2020       2021       2022  \n",
       "0 1411100000 1412360000 1412175000  \n",
       "\n",
       "[1 rows x 67 columns]"
      ]
     },
     "execution_count": 55,
     "metadata": {},
     "output_type": "execute_result"
    }
   ],
   "source": [
    "china = filtered_df[filtered_df['Country Name']=='China'].reset_index(drop=True)\n",
    "years = range(1960,2023)\n",
    "china.head()\n",
    "plt.figure(figsize=(12,6))\n",
    "plt.plot(years, china.loc[:, '1960':'2022'].T, color='red')\n",
    "plt.title('Population of China (1960-2022)')\n",
    "plt.xlabel('Year')\n",
    "plt.ylabel('Population')\n",
    "plt.grid(True)\n",
    "plt.tight_layout()\n",
    "plt.show()\n",
    "china.head()"
   ]
  },
  {
   "cell_type": "code",
   "execution_count": 56,
   "metadata": {},
   "outputs": [
    {
     "data": {
      "text/plain": [
       "111.69817260557362"
      ]
     },
     "execution_count": 56,
     "metadata": {},
     "output_type": "execute_result"
    }
   ],
   "source": [
    "intial_population_china = china.loc[0,'1960']\n",
    "final_population_china = china.loc[0,'2022']\n",
    "absolute_difference = final_population_china - intial_population_china\n",
    "percentage_increase = (absolute_difference/intial_population_china)*100\n",
    "percentage_increase"
   ]
  },
  {
   "cell_type": "markdown",
   "metadata": {},
   "source": [
    "\n",
    "Over the span of 62 years, China's population has increased from 600 million to 1.4 billion by 111.6%."
   ]
  },
  {
   "cell_type": "markdown",
   "metadata": {},
   "source": [
    "Even after rapid growth of population in world, china still remains in top 5 list which even include south Asian countries combined.\n",
    "<h5>but this time india takes the lead in 2022</h5>"
   ]
  },
  {
   "cell_type": "code",
   "execution_count": 57,
   "metadata": {},
   "outputs": [
    {
     "data": {
      "text/html": [
       "<div>\n",
       "<style scoped>\n",
       "    .dataframe tbody tr th:only-of-type {\n",
       "        vertical-align: middle;\n",
       "    }\n",
       "\n",
       "    .dataframe tbody tr th {\n",
       "        vertical-align: top;\n",
       "    }\n",
       "\n",
       "    .dataframe thead th {\n",
       "        text-align: right;\n",
       "    }\n",
       "</style>\n",
       "<table border=\"1\" class=\"dataframe\">\n",
       "  <thead>\n",
       "    <tr style=\"text-align: right;\">\n",
       "      <th></th>\n",
       "      <th>Country Name</th>\n",
       "      <th>2022</th>\n",
       "    </tr>\n",
       "  </thead>\n",
       "  <tbody>\n",
       "    <tr>\n",
       "      <th>204</th>\n",
       "      <td>South Asia</td>\n",
       "      <td>1919348000</td>\n",
       "    </tr>\n",
       "    <tr>\n",
       "      <th>109</th>\n",
       "      <td>India</td>\n",
       "      <td>1417173173</td>\n",
       "    </tr>\n",
       "    <tr>\n",
       "      <th>40</th>\n",
       "      <td>China</td>\n",
       "      <td>1412175000</td>\n",
       "    </tr>\n",
       "    <tr>\n",
       "      <th>181</th>\n",
       "      <td>OECD members</td>\n",
       "      <td>1376606817</td>\n",
       "    </tr>\n",
       "    <tr>\n",
       "      <th>217</th>\n",
       "      <td>Sub-Saharan Africa</td>\n",
       "      <td>1211190002</td>\n",
       "    </tr>\n",
       "  </tbody>\n",
       "</table>\n",
       "</div>"
      ],
      "text/plain": [
       "           Country Name       2022\n",
       "204          South Asia 1919348000\n",
       "109               India 1417173173\n",
       "40                China 1412175000\n",
       "181        OECD members 1376606817\n",
       "217  Sub-Saharan Africa 1211190002"
      ]
     },
     "execution_count": 57,
     "metadata": {},
     "output_type": "execute_result"
    }
   ],
   "source": [
    "filtered_df = filtered_df[~filtered_df['Country Name'].str.contains('income|only|dividend|total|situation|&' , case=False)]\n",
    "largest_population = filtered_df.nlargest(5,'2022')[['Country Name','2022']]\n",
    "largest_population.head()"
   ]
  },
  {
   "cell_type": "code",
   "execution_count": 102,
   "metadata": {},
   "outputs": [
    {
     "data": {
      "text/html": [
       "<div>\n",
       "<style scoped>\n",
       "    .dataframe tbody tr th:only-of-type {\n",
       "        vertical-align: middle;\n",
       "    }\n",
       "\n",
       "    .dataframe tbody tr th {\n",
       "        vertical-align: top;\n",
       "    }\n",
       "\n",
       "    .dataframe thead th {\n",
       "        text-align: right;\n",
       "    }\n",
       "</style>\n",
       "<table border=\"1\" class=\"dataframe\">\n",
       "  <thead>\n",
       "    <tr style=\"text-align: right;\">\n",
       "      <th></th>\n",
       "      <th>Country Name</th>\n",
       "      <th>Country Code</th>\n",
       "      <th>Indicator Name</th>\n",
       "      <th>Indicator Code</th>\n",
       "      <th>1960</th>\n",
       "      <th>1961</th>\n",
       "      <th>1962</th>\n",
       "      <th>1963</th>\n",
       "      <th>1964</th>\n",
       "      <th>1965</th>\n",
       "      <th>...</th>\n",
       "      <th>2013</th>\n",
       "      <th>2014</th>\n",
       "      <th>2015</th>\n",
       "      <th>2016</th>\n",
       "      <th>2017</th>\n",
       "      <th>2018</th>\n",
       "      <th>2019</th>\n",
       "      <th>2020</th>\n",
       "      <th>2021</th>\n",
       "      <th>2022</th>\n",
       "    </tr>\n",
       "  </thead>\n",
       "  <tbody>\n",
       "    <tr>\n",
       "      <th>109</th>\n",
       "      <td>India</td>\n",
       "      <td>IND</td>\n",
       "      <td>Population, total</td>\n",
       "      <td>SP.POP.TOTL</td>\n",
       "      <td>445954579</td>\n",
       "      <td>456351876</td>\n",
       "      <td>467024193</td>\n",
       "      <td>477933619</td>\n",
       "      <td>489059309</td>\n",
       "      <td>500114346</td>\n",
       "      <td>...</td>\n",
       "      <td>1291132063</td>\n",
       "      <td>1307246509</td>\n",
       "      <td>1322866505</td>\n",
       "      <td>1338636340</td>\n",
       "      <td>1354195680</td>\n",
       "      <td>1369003306</td>\n",
       "      <td>1383112050</td>\n",
       "      <td>1396387127</td>\n",
       "      <td>1407563842</td>\n",
       "      <td>1417173173</td>\n",
       "    </tr>\n",
       "  </tbody>\n",
       "</table>\n",
       "<p>1 rows × 67 columns</p>\n",
       "</div>"
      ],
      "text/plain": [
       "    Country Name Country Code     Indicator Name Indicator Code      1960  \\\n",
       "109        India          IND  Population, total    SP.POP.TOTL 445954579   \n",
       "\n",
       "         1961      1962      1963      1964      1965  ...       2013  \\\n",
       "109 456351876 467024193 477933619 489059309 500114346  ... 1291132063   \n",
       "\n",
       "          2014       2015       2016       2017       2018       2019  \\\n",
       "109 1307246509 1322866505 1338636340 1354195680 1369003306 1383112050   \n",
       "\n",
       "          2020       2021       2022  \n",
       "109 1396387127 1407563842 1417173173  \n",
       "\n",
       "[1 rows x 67 columns]"
      ]
     },
     "execution_count": 102,
     "metadata": {},
     "output_type": "execute_result"
    }
   ],
   "source": [
    "india = filtered_df[filtered_df['Country Name']=='India']\n",
    "india_population_1960 = india['1960']\n",
    "india_population_2022 = india['2022']\n",
    "absolute_difference = india_population_2022 - india_population_1960\n",
    "percentage_increase = (absolute_difference/india_population_1960)*100\n",
    "india\n"
   ]
  },
  {
   "cell_type": "markdown",
   "metadata": {},
   "source": [
    "<h2>India has surged into the top five countries, boasting a remarkable growth of 162% from year 1960 to 2022.</h2>"
   ]
  },
  {
   "cell_type": "code",
   "execution_count": 105,
   "metadata": {},
   "outputs": [
    {
     "data": {
      "image/png": "[encoded data removed]",
      "text/plain": [
       "<Figure size 1200x600 with 1 Axes>"
      ]
     },
     "metadata": {},
     "output_type": "display_data"
    }
   ],
   "source": [
    "plt.figure(figsize=(12,6))\n",
    "plt.plot(years,india.loc[:,'1960':'2022'].T,color='gray')\n",
    "plt.title('Population of India (1960-2022)')\n",
    "plt.xlabel('Year')\n",
    "plt.ylabel('Population')\n",
    "plt.grid(True)\n",
    "plt.tight_layout()\n",
    "plt.show()\n"
   ]
  },
  {
   "cell_type": "markdown",
   "metadata": {},
   "source": [
    "<h1>Lets find out how much countries have grown in their populations</h1>"
   ]
  },
  {
   "cell_type": "code",
   "execution_count": 67,
   "metadata": {},
   "outputs": [
    {
     "data": {
      "text/plain": [
       "162.27987399084057"
      ]
     },
     "execution_count": 67,
     "metadata": {},
     "output_type": "execute_result"
    }
   ],
   "source": [
    "\n",
    "world_population_all_years.dropna(axis=1, how='all')\n",
    "world_population_1960 = world_population_all_years.loc[259,'1960']\n",
    "world_population_2022 = world_population_all_years.loc[259,'2022']\n",
    "world_population_all_years_difference = world_population_2022 - world_population_1960\n",
    "world_population_all_years_difference_percentage = world_population_all_years_difference/world_population_1960*100\n",
    "world_population_all_years_difference_percentage\n",
    "\n",
    "\n"
   ]
  },
  {
   "cell_type": "code",
   "execution_count": null,
   "metadata": {},
   "outputs": [],
   "source": []
  },
  {
   "cell_type": "code",
   "execution_count": 73,
   "metadata": {},
   "outputs": [
    {
     "data": {
      "image/png": "[encoded data removed]",
      "text/plain": [
       "<Figure size 300x400 with 1 Axes>"
      ]
     },
     "metadata": {},
     "output_type": "display_data"
    }
   ],
   "source": [
    "plt.figure(figsize=(3,4))\n",
    "plt.bar(['1960-2022'], world_population_all_years_difference_percentage, color='blue')\n",
    "plt.title('Percentage Change in World Population (1960-2022)')\n",
    "plt.xlabel('Years')\n",
    "plt.ylabel('Percentage Change')\n",
    "plt.grid(axis='y', linestyle='--', alpha=0.7)\n",
    "plt.tight_layout()\n",
    "plt.show()"
   ]
  },
  {
   "cell_type": "markdown",
   "metadata": {},
   "source": [
    "<h3>It turns out that the world drastically doubled its population in just 62 years.(162%)</h3>\n"
   ]
  },
  {
   "cell_type": "markdown",
   "metadata": {},
   "source": [
    "<h1>Prediction for upcoming 2 years</h1>\n",
    "<p>lets predict the current year's (2024) population which is '8.1B'</p>"
   ]
  },
  {
   "cell_type": "code",
   "execution_count": 83,
   "metadata": {},
   "outputs": [
    {
     "data": {
      "text/plain": [
       "8107120533.285714"
      ]
     },
     "execution_count": 83,
     "metadata": {},
     "output_type": "execute_result"
    }
   ],
   "source": [
    "year=2022-1960 + 1\n",
    "population_change_rate = (world_population_2022-world_population_1960)/year\n",
    "predicted_population = world_population_2022+population_change_rate*2\n",
    "predicted_population"
   ]
  },
  {
   "cell_type": "markdown",
   "metadata": {},
   "source": [
    "now as we know, the prediction is very close to be 100% accurate. So, lets predict next 10 years (2024-2034) population."
   ]
  },
  {
   "cell_type": "code",
   "execution_count": 92,
   "metadata": {},
   "outputs": [
    {
     "data": {
      "text/plain": [
       "8.593442967874788"
      ]
     },
     "execution_count": 92,
     "metadata": {},
     "output_type": "execute_result"
    }
   ],
   "source": [
    "year=2022-1960 + 10\n",
    "population_change_rate = (world_population_2022-world_population_1960)/year\n",
    "predicted_10_years_population = world_population_2022+population_change_rate*10\n",
    "# percentage_change = (predicted_10_years_population / world_population_2022) * 100\n",
    "# percentage_change\n",
    "\n",
    "predicted_percentage_difference = ((predicted_10_years_population-world_population_2022)/world_population_2022)*100\n",
    "predicted_percentage_difference"
   ]
  },
  {
   "cell_type": "markdown",
   "metadata": {},
   "source": [
    "<h4>according to the dataset provided by world bank, the world population will grow 8.5% in next 10 years.</h4>"
   ]
  },
  {
   "cell_type": "code",
   "execution_count": null,
   "metadata": {},
   "outputs": [],
   "source": []
  }
 ],
 "metadata": {
  "kernelspec": {
   "display_name": "Python 3",
   "language": "python",
   "name": "python3"
  },
  "language_info": {
   "codemirror_mode": {
    "name": "ipython",
    "version": 3
   },
   "file_extension": ".py",
   "mimetype": "text/x-python",
   "name": "python",
   "nbconvert_exporter": "python",
   "pygments_lexer": "ipython3",
   "version": "3.12.2"
  }
 },
 "nbformat": 4,
 "nbformat_minor": 2
}
